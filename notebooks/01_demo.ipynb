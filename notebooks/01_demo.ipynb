{
 "cells": [
  {
   "cell_type": "code",
   "execution_count": null,
   "id": "a87c58a0",
   "metadata": {},
   "outputs": [],
   "source": [
    "from pathlib import Path\n",
    "import sys\n",
    "sys.path.append(str(Path(\"..\").resolve()))\n",
    "\n",
    "import pandas as pd\n",
    "import matplotlib.pyplot as plt\n",
    "\n",
    "from src.data.loader import fetch_ohlc\n",
    "from src.strategies.sma_crossover import sma_signal\n",
    "from src.backtest.engine import run_long_flat\n",
    "from src.backtest.metrics import (\n",
    "    summarize, sharpe, sortino, cagr, max_drawdown, equity_curve\n",
    ")\n",
    "\n",
    "TICKER = \"AAPL\"\n",
    "START = \"2015-01-01\"\n",
    "END   = \"2025-09-01\"\n",
    "FAST, SLOW = 20, 50\n",
    "COST_BPS = 1.0\n",
    "AUTO_ADJUST = True\n"
   ]
  },
  {
   "cell_type": "code",
   "execution_count": null,
   "id": "251efc81",
   "metadata": {},
   "outputs": [],
   "source": [
    "close = fetch_ohlc(TICKER, START, END, auto_adjust=AUTO_ADJUST)\n",
    "signal = sma_signal(close, FAST, SLOW)\n",
    "res = run_long_flat(close, signal, cost_bps=COST_BPS)\n",
    "\n",
    "spy = fetch_ohlc(\"SPY\", START, END, auto_adjust=AUTO_ADJUST)\n",
    "bench_ret = spy.pct_change().reindex(close.index).fillna(0.0)\n",
    "bench_eq  = equity_curve(bench_ret)\n",
    "\n",
    "df = pd.DataFrame({\n",
    "    \"close\": close.squeeze(),\n",
    "    \"signal\": signal.squeeze(),\n",
    "    \"strat_ret\": res[\"returns\"].squeeze(),\n",
    "    \"strat_eq\": res[\"equity\"].squeeze(),\n",
    "    \"bench_ret\": bench_ret.squeeze(),\n",
    "    \"bench_eq\": bench_eq.squeeze(),\n",
    "})\n",
    "df.tail()\n"
   ]
  },
  {
   "cell_type": "code",
   "execution_count": null,
   "id": "8f7ad254",
   "metadata": {},
   "outputs": [],
   "source": [
    "strat = summarize(df[\"strat_ret\"], df[\"strat_eq\"], df[\"signal\"].shift(1).fillna(0.0))\n",
    "bench = {\n",
    "    \"Sharpe\":  sharpe(bench_ret),\n",
    "    \"Sortino\": sortino(bench_ret),\n",
    "    \"CAGR\":    cagr(bench_ret),\n",
    "    \"MaxDD\":   max_drawdown(bench_eq),\n",
    "}\n",
    "pd.DataFrame([strat, bench], index=[\"Strategy\", \"SPY\"]).T\n"
   ]
  },
  {
   "cell_type": "code",
   "execution_count": null,
   "id": "bf9d12be",
   "metadata": {},
   "outputs": [],
   "source": [
    "# price + SMAs\n",
    "fast_sma = close.rolling(FAST, min_periods=FAST).mean()\n",
    "slow_sma = close.rolling(SLOW, min_periods=SLOW).mean()\n",
    "plt.figure(figsize=(10,4)); close.plot(label=TICKER)\n",
    "fast_sma.plot(label=f\"SMA{FAST}\"); slow_sma.plot(label=f\"SMA{SLOW}\")\n",
    "plt.title(f\"{TICKER} price & SMAs\"); plt.legend(); plt.tight_layout(); plt.show()\n",
    "\n",
    "# equity vs SPY\n",
    "plt.figure(figsize=(10,4))\n",
    "df[\"strat_eq\"].plot(label=\"Strategy\"); df[\"bench_eq\"].plot(label=\"SPY\")\n",
    "plt.title(\"Equity curves\"); plt.legend(); plt.tight_layout(); plt.show()\n",
    "\n",
    "# drawdown\n",
    "peak = df[\"strat_eq\"].cummax(); dd = df[\"strat_eq\"]/peak - 1.0\n",
    "plt.figure(figsize=(10,2.8)); dd.plot(); plt.title(\"Strategy drawdown\")\n",
    "plt.tight_layout(); plt.show()\n",
    "\n",
    "# Optional saves:\n",
    "# df.to_csv(f\"assets/{TICKER}_results.csv\")\n",
    "# (pd.Series(strat)).to_json(f\"assets/{TICKER}_summary.json\", indent=2)\n"
   ]
  }
 ],
 "metadata": {
  "language_info": {
   "name": "python"
  }
 },
 "nbformat": 4,
 "nbformat_minor": 5
}
